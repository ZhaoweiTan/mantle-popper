{
 "cells": [
  {
   "cell_type": "code",
   "execution_count": 7,
   "metadata": {
    "collapsed": false
   },
   "outputs": [],
   "source": [
    "import sys\n",
    "import glob\n",
    "import os\n",
    "import re\n",
    "import pandas as pd\n",
    "import matplotlib\n",
    "import matplotlib.pyplot as plt\n",
    "import numpy as np\n",
    "import datetime\n",
    "%matplotlib inline"
   ]
  },
  {
   "cell_type": "code",
   "execution_count": 28,
   "metadata": {
    "collapsed": false
   },
   "outputs": [
    {
     "data": {
      "text/plain": [
       "(0, 4)"
      ]
     },
     "execution_count": 28,
     "metadata": {},
     "output_type": "execute_result"
    },
    {
     "data": {
      "image/png": "[encoded data removed]",
      "text/plain": [
       "<matplotlib.figure.Figure at 0x7f9eb74d8e50>"
      ]
     },
     "metadata": {},
     "output_type": "display_data"
    }
   ],
   "source": [
    "mds0 = \"utilization/cpu-issdm-10.out\"\n",
    "mds1 = \"utilization/cpu-issdm-15.out\"\n",
    "mds2 = \"utilization/cpu-issdm-12.out\"\n",
    "mds3 = \"utilization/cpu-issdm-18.out\"\n",
    "\n",
    "mds0_trace = pd.read_table(mds0, header=None, sep=(\",\"),names=(\"seconds\", \"cpu\"), skiprows=13)\n",
    "mds1_trace = pd.read_table(mds1, header=None, sep=(\",\"),names=(\"seconds\", \"cpu\"), skiprows=13)\n",
    "mds2_trace = pd.read_table(mds2, header=None, sep=(\",\"),names=(\"seconds\", \"cpu\"), skiprows=13)\n",
    "mds3_trace = pd.read_table(mds3, header=None, sep=(\",\"),names=(\"seconds\", \"cpu\"), skiprows=13)\n",
    "\n",
    "fig = plt.figure()\n",
    "ax = fig.add_subplot(111)\n",
    "ax.plot(mds0_trace['cpu']*100, linewidth=2.0, label=\"MDS0\")\n",
    "ax.plot(mds1_trace['cpu']*100, linewidth=2.0, label=\"MDS1\")\n",
    "ax.plot(mds2_trace['cpu']*100, linewidth=2.0, label=\"MDS2\")\n",
    "ax.plot(mds3_trace['cpu']*100, linewidth=2.0, label=\"MDS3\")\n",
    "ax.set_xlim(0,4)\n",
    "\n"
   ]
  },
  {
   "cell_type": "code",
   "execution_count": null,
   "metadata": {
    "collapsed": false
   },
   "outputs": [],
   "source": []
  },
  {
   "cell_type": "raw",
   "metadata": {},
   "source": [
    "print hi"
   ]
  },
  {
   "cell_type": "code",
   "execution_count": null,
   "metadata": {
    "collapsed": true
   },
   "outputs": [],
   "source": []
  }
 ],
 "metadata": {
  "kernelspec": {
   "display_name": "Python 2",
   "language": "python",
   "name": "python2"
  },
  "language_info": {
   "codemirror_mode": {
    "name": "ipython",
    "version": 2
   },
   "file_extension": ".py",
   "mimetype": "text/x-python",
   "name": "python",
   "nbconvert_exporter": "python",
   "pygments_lexer": "ipython2",
   "version": "2.7.11"
  },
  "widgets": {
   "state": {},
   "version": "1.1.2"
  }
 },
 "nbformat": 4,
 "nbformat_minor": 0
}
